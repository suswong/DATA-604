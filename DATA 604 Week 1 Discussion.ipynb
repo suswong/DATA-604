{
 "cells": [
  {
   "cell_type": "code",
   "execution_count": 9,
   "id": "780a5725",
   "metadata": {},
   "outputs": [],
   "source": [
    "import random\n",
    "import matplotlib.pyplot as plt"
   ]
  },
  {
   "cell_type": "code",
   "execution_count": 10,
   "id": "1c116581",
   "metadata": {},
   "outputs": [],
   "source": [
    "# A function that simulates rolling a six-sided dice\n",
    "def roll_dice():\n",
    "    return random.randint(1, 6) # generates a random integer from 1 to 6, inclusive"
   ]
  },
  {
   "cell_type": "code",
   "execution_count": 11,
   "id": "0fec8155",
   "metadata": {},
   "outputs": [],
   "source": [
    "# A function that simulates a game of rolling two dice given a number of simulation we define later\n",
    "def simulate_game(num_simulations):\n",
    "    results = {} # initate a empty dictionary that will store the frequency of each possiblt sum\n",
    "    \n",
    "    for _ in range(num_simulations):\n",
    "        dice1 = roll_dice() # uses the function in line 10 to generate a random roll for the first dice\n",
    "        dice2 = roll_dice() # uses the function in line 10 to generate a random roll for the second dice\n",
    "        total = dice1 + dice2 # adds the random value of the two dice\n",
    "        \n",
    "        if total in results:\n",
    "            results[total] += 1 # Checks if the calculated sum is already a key in 'results' dictionary. If yes, it will increment\n",
    "        else:\n",
    "            results[total] = 1 # if no, it adds the calculated sum a new key and set value to 1\n",
    "    \n",
    "    return results\n"
   ]
  },
  {
   "cell_type": "code",
   "execution_count": 15,
   "id": "318b7099",
   "metadata": {},
   "outputs": [
    {
     "data": {
      "text/plain": [
       "{6: 139,\n",
       " 8: 154,\n",
       " 7: 177,\n",
       " 2: 38,\n",
       " 5: 99,\n",
       " 4: 67,\n",
       " 12: 21,\n",
       " 9: 112,\n",
       " 11: 66,\n",
       " 10: 85,\n",
       " 3: 42}"
      ]
     },
     "execution_count": 15,
     "metadata": {},
     "output_type": "execute_result"
    }
   ],
   "source": [
    "num_simulations = 1000\n",
    "results = simulate_game(num_simulations)\n",
    "\n",
    "results"
   ]
  },
  {
   "cell_type": "code",
   "execution_count": 16,
   "id": "1058dad8",
   "metadata": {},
   "outputs": [],
   "source": [
    "sums = list(results.keys())\n",
    "frequencies = list(results.values())"
   ]
  },
  {
   "cell_type": "code",
   "execution_count": 19,
   "id": "93194c2a",
   "metadata": {},
   "outputs": [
    {
     "data": {
      "image/png": "[encoded data removed]",
      "text/plain": [
       "<Figure size 640x480 with 1 Axes>"
      ]
     },
     "metadata": {},
     "output_type": "display_data"
    }
   ],
   "source": [
    "# Plot the simulation results. The sums are on the x-axis with its frequency on the y-axis\n",
    "plt.bar(sums, frequencies)\n",
    "plt.xlabel('Sum')\n",
    "plt.ylabel('Frequency')\n",
    "plt.title('Simulation Results')\n",
    "plt.show()"
   ]
  },
  {
   "cell_type": "code",
   "execution_count": null,
   "id": "595a8a09",
   "metadata": {},
   "outputs": [],
   "source": []
  }
 ],
 "metadata": {
  "kernelspec": {
   "display_name": "Python 3 (ipykernel)",
   "language": "python",
   "name": "python3"
  },
  "language_info": {
   "codemirror_mode": {
    "name": "ipython",
    "version": 3
   },
   "file_extension": ".py",
   "mimetype": "text/x-python",
   "name": "python",
   "nbconvert_exporter": "python",
   "pygments_lexer": "ipython3",
   "version": "3.10.9"
  }
 },
 "nbformat": 4,
 "nbformat_minor": 5
}
